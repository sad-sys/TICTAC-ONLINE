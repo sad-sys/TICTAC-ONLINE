{
 "cells": [
  {
   "cell_type": "code",
   "execution_count": 1,
   "metadata": {},
   "outputs": [
    {
     "name": "stdout",
     "output_type": "stream",
     "text": [
      "J35\n"
     ]
    }
   ],
   "source": [
    "import datetime\n",
    "import random\n",
    "import string\n",
    "\n",
    "issued_codes = set()  \n",
    "\n",
    "def generateCode():\n",
    "    now = datetime.datetime.now()\n",
    "    random_part = random.choice(string.ascii_uppercase)\n",
    "    second = str(now.second) \n",
    "    generate = random_part  + second\n",
    "    \n",
    "    return generate\n",
    "    \n",
    "print(generateCode())"
   ]
  }
 ],
 "metadata": {
  "kernelspec": {
   "display_name": "Python 3",
   "language": "python",
   "name": "python3"
  },
  "language_info": {
   "codemirror_mode": {
    "name": "ipython",
    "version": 3
   },
   "file_extension": ".py",
   "mimetype": "text/x-python",
   "name": "python",
   "nbconvert_exporter": "python",
   "pygments_lexer": "ipython3",
   "version": "3.11.4"
  }
 },
 "nbformat": 4,
 "nbformat_minor": 2
}
